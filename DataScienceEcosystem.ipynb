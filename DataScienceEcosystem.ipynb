{
 "cells": [
  {
   "cell_type": "markdown",
   "id": "5e69e7bf",
   "metadata": {},
   "source": [
    "# Data Science Tools and Ecosystem"
   ]
  },
  {
   "cell_type": "markdown",
   "id": "077b2d4e",
   "metadata": {},
   "source": [
    " In this notebook, Data Science Tools and Ecosystem are memorized."
   ]
  },
  {
   "cell_type": "markdown",
   "id": "38c521dc",
   "metadata": {},
   "source": [
    "***Objectives:***\n",
    "- Code\n",
    "- Markdown\n",
    "- Titre"
   ]
  },
  {
   "cell_type": "markdown",
   "id": "acfb3080",
   "metadata": {},
   "source": [
    "Some of popular languages that Data Scientist use are:\n",
    "1. Python\n",
    "2. R\n",
    "3. Java Script"
   ]
  },
  {
   "cell_type": "markdown",
   "id": "a007090c",
   "metadata": {},
   "source": [
    "Some of commenly used libraries used by Data Scientists include:\n",
    "1. Numpy\n",
    "2. Panda\n",
    "3. TensorFlow\n",
    "4. Keras"
   ]
  },
  {
   "attachments": {},
   "cell_type": "markdown",
   "id": "8c5bc2f9",
   "metadata": {},
   "source": [
    "|Data Science Tools|            \n",
    "|----|\n",
    "|TensorFlow|\n",
    "|Apache Spark|\n",
    "|Matplotlib|"
   ]
  },
  {
   "cell_type": "markdown",
   "id": "6ee976dd",
   "metadata": {},
   "source": [
    "### Below are a few examples of evaluating arithmetic expressions in Python         "
   ]
  },
  {
   "cell_type": "code",
   "execution_count": 6,
   "id": "61fb80a4",
   "metadata": {
    "scrolled": true
   },
   "outputs": [
    {
     "data": {
      "text/plain": [
       "17"
      ]
     },
     "execution_count": 6,
     "metadata": {},
     "output_type": "execute_result"
    }
   ],
   "source": [
    "(3*4)+5  # This is a simple arithmetic expression to multiply then add integers     "
   ]
  },
  {
   "cell_type": "code",
   "execution_count": 11,
   "id": "c2a84f17",
   "metadata": {},
   "outputs": [
    {
     "data": {
      "text/plain": [
       "3.3333333333333335"
      ]
     },
     "execution_count": 11,
     "metadata": {},
     "output_type": "execute_result"
    }
   ],
   "source": [
    "200/60 # This will convert 200 minutes to hours by diving by 60         "
   ]
  },
  {
   "cell_type": "markdown",
   "id": "b096012e",
   "metadata": {},
   "source": [
    "## Author\n",
    "Ugur Akarsu"
   ]
  }
 ],
 "metadata": {
  "kernelspec": {
   "display_name": "Python 3 (ipykernel)",
   "language": "python",
   "name": "python3"
  },
  "language_info": {
   "codemirror_mode": {
    "name": "ipython",
    "version": 3
   },
   "file_extension": ".py",
   "mimetype": "text/x-python",
   "name": "python",
   "nbconvert_exporter": "python",
   "pygments_lexer": "ipython3",
   "version": "3.11.4"
  }
 },
 "nbformat": 4,
 "nbformat_minor": 5
}
